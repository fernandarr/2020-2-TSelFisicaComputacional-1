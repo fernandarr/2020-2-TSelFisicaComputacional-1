{
 "cells": [
  {
   "cell_type": "markdown",
   "metadata": {},
   "source": [
    "# Ayuda para el primer PR"
   ]
  },
  {
   "cell_type": "markdown",
   "metadata": {},
   "source": [
    "Para un blog más detallado sobre esto ([#6](https://github.com/lbenet/2020-2-TSelFisicaComputacional-1/issues/6)): https://kshyatt.github.io/post/firstjuliapr/\n",
    "\n",
    "\n",
    "### 1. Configuración local de git y GitHub\n",
    "\n",
    "    $git config --global user.name \"Su Nombre\"\n",
    "    ...\n",
    "    \n",
    "    $git config --global user.email \"usuario@email_de_verdad.hoy\"\n",
    "    ...\n",
    "    \n",
    "    $git config --global color.ui \"auto\"\n",
    "    ...\n",
    "    \n",
    "    $git config --global github.user \"Usuario_GitHub\"\n",
    "    ...\n",
    "\n",
    "### 2. Configuración local de los repositorios\n",
    "\n",
    "En el mismo directorio (e.g., `./clases/20202-TSFC1`) deben clonar la clase:\n",
    "\n",
    "    $git clone https://github.com/lbenet/2020-2-TSelFisicaComputacional-1 ./20202-TSFC1\n",
    "    ...\n",
    "\n",
    "    $ git remote -v\n",
    "    origin\thttps://github.com/lbenet/2020-2-TSelFisicaComputacional-1 (fetch)\n",
    "    origin\thttps://github.com/lbenet/2020-2-TSelFisicaComputacional-1 (push)\n",
    "\n",
    "Desde el navegador, ustedes ya clonaron/bifurcaron el proyecto de la clase a su cuenta de GitHub: ver https://github.com/lbenet/2020-2-TSelFisicaComputacional-1/network/members\n",
    "\n",
    "    $ git remote add mifork https://github.com/carranco-sga/2020-2-TSelFisicaComputacional-1\n",
    "    ...\n",
    "    $ git remote -v\n",
    "    mifork\thttps://github.com/carranco-sga/2020-2-TSelFisicaComputacional-1 (fetch)\n",
    "    mifork\thttps://github.com/carranco-sga/2020-2-TSelFisicaComputacional-1 (push)\n",
    "    origin\thttps://github.com/lbenet/2020-2-TSelFisicaComputacional-1 (fetch)\n",
    "    origin\thttps://github.com/lbenet/2020-2-TSelFisicaComputacional-1 (push)\n",
    "\n",
    "### 3. Envío del PR\n",
    "\n",
    "Para hacer un *pull request* (PR) necesitan \n",
    "\n",
    "1. Actualizar su repositorio respecto al curso.\n",
    "    * Primero nos cambiamos a la rama `master`: `git checkout master`.\n",
    "    * Actualizamos respecto al repositorio \"origin\": `git pull origin master`\n",
    "\n",
    "- Subir los cambios que proponen a su fork en GitHub, es decir, a `mifork`:\n",
    "    * Primero, hacemos un nuevo branch (típicamente desde `master`) con `git checkout -b csga/T1`; la nueva rama se llama \"csga/T1\".\n",
    "    * Segundo, hacemos los cambios, los marcamos (`git add ...`) y los comprometemos (`git commit -m \"...\"`) *localmente*.\n",
    "    * Tercero, subimos los cambios a *nuestro fork*: `git push mifork csga/T1`. Dependiendo de la configuración, a veces esta instrucción no es suficiente; git directamente dice qué hacer.\n",
    "    \n",
    "- Abrir el PR:\n",
    "    * Desde el navegador, van al repositorio del curso y se autentifican (entran a GitHub). Debe aparecerles una pantalla amarilla con un botón verde (\"Compare & Pull Request\").\n",
    "    * Apretar el botón verde y completar los campos con algo que aclare bien los cambios que proponen: e.g., \"Agrego Tarea1 (Gabriel)\"\n",
    "    * *Creen* el PR, apretando el botón verde \"Create Pull Request\""
   ]
  },
  {
   "cell_type": "code",
   "execution_count": null,
   "metadata": {},
   "outputs": [],
   "source": []
  }
 ],
 "metadata": {
  "kernelspec": {
   "display_name": "Julia 1.3.1",
   "language": "julia",
   "name": "julia-1.3"
  },
  "language_info": {
   "file_extension": ".jl",
   "mimetype": "application/julia",
   "name": "julia",
   "version": "1.3.1"
  }
 },
 "nbformat": 4,
 "nbformat_minor": 2
}
